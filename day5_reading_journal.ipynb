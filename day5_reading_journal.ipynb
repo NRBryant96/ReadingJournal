{
 "cells": [
  {
   "cell_type": "markdown",
   "metadata": {},
   "source": [
    "# Day 5 Reading Journal\n",
    "\n",
    "This journal includes several required exercises, but it is meant to encourage active reading more generally.  You should use the journal to take detailed notes, catalog questions, and explore the content from Think Python deeply.\n",
    "\n",
    "Reading: Think Python Chapter 4\n",
    "\n",
    "**Due: Monday, February 8 at 12 noon**\n",
    "\n"
   ]
  },
  {
   "cell_type": "markdown",
   "metadata": {},
   "source": [
    "## [Chapter 4](http://www.greenteapress.com/thinkpython/html/thinkpython005.html)\n",
    "\n",
    "In today's reading, you'll be exploring TurtleWorld!\n",
    "TurtleWorld is part of the [swampy](http://www.greenteapress.com/thinkpython/swampy/) package, written by Allen Downey.\n",
    "As part of the [Get Set](https://sites.google.com/site/sd16spring/home/assignments-and-mini-projects/setup-your-environment) assignment, you installed the swampy package using the pip Python package management tool. If you somehow missed that step or you see errors when you try to import TurtleWorld, you can install swampy by running:\n",
    "\n",
    "```\n",
    "sudo pip install swampy\n",
    "```\n",
    "\n",
    "at the command line.\n",
    "\n",
    "### Turtle wrangling\n",
    "\n",
    "You can always run your code as separate Python scripts, but here are a few tips for mixing TurtleWorld with Jupyter notebook:\n",
    "\n",
    " - TurtleWorld will appear in a new GUI window, rather than inline in the notebook like typical results do\n",
    " - You will not be able to close the TurtleWorld window unless you run `wait_for_user()` as the last line of your code.\n",
    " - Jupyter notebook works like one big Python script, even though it is broken up into sections. This means that you could create a Turtle in one cell, move it in a later cell, and then `wait_for_user()` in yet another. Despite this, it might be easier to treat each cell in this assignment as a separate script, creating a new world at the beginning and destroying it at the end of each."
   ]
  },
  {
   "cell_type": "markdown",
   "metadata": {},
   "source": [
    "### Get started\n",
    "\n",
    "Run the code in the cell below and make sure everything works. You should see brave Alice spring into the world and run forward. You can close the window when you're done by clicking on the 'X'. If this simple test doesn't work, check your swampy install (especially if you get an `ImportError`) and ask for help."
   ]
  },
  {
   "cell_type": "code",
   "execution_count": 1,
   "metadata": {
    "collapsed": true
   },
   "outputs": [],
   "source": [
    "from swampy.TurtleWorld import *\n",
    "\n",
    "# Create the world, and a turtle to put in it\n",
    "world = TurtleWorld()\n",
    "alice = Turtle()\n",
    "\n",
    "# Get moving, turtle!\n",
    "fd(alice, 50)\n",
    "\n",
    "# Wait for the user to close the window\n",
    "wait_for_user()"
   ]
  },
  {
   "cell_type": "code",
   "execution_count": null,
   "metadata": {
    "collapsed": false
   },
   "outputs": [],
   "source": [
    "from swampy.TurtleWorld import*\n",
    "\n",
    "world = TurtleWorld()\n",
    "bob = Turtle()\n",
    "fd(bob,100)\n",
    "lt(bob)\n",
    "fd(bob,100)\n",
    "lt(bob)\n",
    "fd(bob,100)\n",
    "lt(bob)\n",
    "fd(bob,100)\n",
    "print bob\n",
    "\n",
    "\n",
    "wait_for_user()"
   ]
  },
  {
   "cell_type": "markdown",
   "metadata": {
    "is_question": true,
    "problem": "Section 4.3"
   },
   "source": [
    "### Section 4.3 exercises\n",
    "Work through exercises 1-5 in Section 4.3, creating the `square`, `polygon`, `circle`, and `arc` functions. You can reference Allen's solutions, but please try the problems on your own first."
   ]
  },
  {
   "cell_type": "code",
   "execution_count": 20,
   "metadata": {
    "collapsed": false,
    "solution": "Section 4.3"
   },
   "outputs": [],
   "source": [
    "import math\n",
    "from swampy.TurtleWorld import*\n",
    "world = TurtleWorld()\n",
    "bob = Turtle()\n",
    "def square(t,length):\n",
    "    for i in range(4):\n",
    "        fd(t,length)\n",
    "        lt(t)\n",
    "        \n",
    "def poly(t,n,length,angle):\n",
    "    angle = 360.0 / n\n",
    "    poly(t,n,length, angle)\n",
    "\n",
    "def polygon(t,length,n):\n",
    "    angle = 360.0/n\n",
    "    for i in range(n):\n",
    "        fd(t,length)\n",
    "        lt(t,angle)\n",
    "\n",
    "def circle(t,r): \n",
    "    n = 50\n",
    "    length = ( 2 * math.pi *r)/ n\n",
    "    polygon(t,length,n)\n",
    "\n",
    "def arc (t,r,angle):\n",
    "    arc_length = 2* math.pi * r *angle/360\n",
    "    n = int(arc_length  / 3) +1\n",
    "    forward = arc_length / n\n",
    "    turn = float(angle) / n\n",
    "    \n",
    "    for i in range(n):\n",
    "        fd(t, forward)\n",
    "        lt(t, turn)\n",
    "\n",
    "        \n",
    "\n",
    "        \n",
    "#square(bob,50)\n",
    "#polygon(bob,50, 5)\n",
    "#circle(bob,60)\n",
    "arc(bob, 40 , 30)\n",
    "            \n",
    "    "
   ]
  },
  {
   "cell_type": "markdown",
   "metadata": {
    "is_question": true,
    "problem": "More fun"
   },
   "source": [
    "### Exercise: More fun with Turtles!\n",
    "Complete at least one of Exercise 2, 3, 4, or 5. If you come up with some cool drawings you'd like to share with the rest of the class, let us know!"
   ]
  },
  {
   "cell_type": "code",
   "execution_count": null,
   "metadata": {
    "collapsed": true,
    "solution": "More fun"
   },
   "outputs": [],
   "source": [
    "\"\"\"This module contains code from\n",
    "Think Python by Allen B. Downey\n",
    "http://thinkpython.com\n",
    "\n",
    "Copyright 2012 Allen B. Downey\n",
    "License: GNU GPLv3 http://www.gnu.org/licenses/gpl.html\n",
    "\n",
    "\"\"\"\n",
    "\n",
    "import math\n",
    "\n",
    "try:\n",
    "    # see if Swampy is installed as a package\n",
    "    from swampy.TurtleWorld import *\n",
    "except ImportError:\n",
    "    # otherwise see if the modules are on the PYTHONPATH\n",
    "    from TurtleWorld import *\n",
    "\n",
    "\n",
    "def square(t, length):\n",
    "    \"\"\"Draws a square with sides of the given length.\n",
    "\n",
    "    Returns the Turtle to the starting position and location.\n",
    "    \"\"\"\n",
    "    for i in range(4):\n",
    "        fd(t, length)\n",
    "        lt(t)\n",
    "\n",
    "\n",
    "def polyline(t, n, length, angle):\n",
    "    \"\"\"Draws n line segments.\n",
    "\n",
    "    t: Turtle object\n",
    "    n: number of line segments\n",
    "    length: length of each segment\n",
    "    angle: degrees between segments\n",
    "    \"\"\"\n",
    "    for i in range(n):\n",
    "        fd(t, length)\n",
    "        lt(t, angle)\n",
    "\n",
    "\n",
    "def polygon(t, n, length):\n",
    "    \"\"\"Draws a polygon with n sides.\n",
    "\n",
    "    t: Turtle\n",
    "    n: number of sides\n",
    "    length: length of each side.\n",
    "    \"\"\"\n",
    "    angle = 360.0/n\n",
    "    polyline(t, n, length, angle)\n",
    "\n",
    "\n",
    "def arc(t, r, angle):\n",
    "    \"\"\"Draws an arc with the given radius and angle.\n",
    "\n",
    "    t: Turtle\n",
    "    r: radius\n",
    "    angle: angle subtended by the arc, in degrees\n",
    "    \"\"\"\n",
    "    arc_length = 2 * math.pi * r * abs(angle) / 360\n",
    "    n = int(arc_length / 4) + 1\n",
    "    step_length = arc_length / n\n",
    "    step_angle = float(angle) / n\n",
    "\n",
    "    # making a slight left turn before starting reduces\n",
    "    # the error caused by the linear approximation of the arc\n",
    "    lt(t, step_angle/2)\n",
    "    polyline(t, n, step_length, step_angle)\n",
    "    rt(t, step_angle/2)\n",
    "\n",
    "\n",
    "def circle(t, r):\n",
    "    \"\"\"Draws a circle with the given radius.\n",
    "\n",
    "    t: Turtle\n",
    "    r: radius\n",
    "    \"\"\"\n",
    "    arc(t, r, 360)\n",
    "    \n",
    "#Flower code\n",
    "\n",
    "def petal(t,r,angle):\n",
    "    arcs = 2\n",
    "    for i in range(arcs):\n",
    "        arc(t,r,angle)\n",
    "        lt(t,180)    \n",
    "\n",
    "# the following condition checks whether we are\n",
    "# running as a script, in which case run the test code,\n",
    "# or being imported, in which case don't.\n",
    "\n",
    "if __name__ == '__main__':\n",
    "    world = TurtleWorld()    \n",
    "\n",
    "    bob = Turtle()\n",
    "    bob.delay = 0.001\n",
    "\n",
    "    # draw a circle centered on the origin\n",
    "    radius = 100\n",
    "    pu(bob)\n",
    "    fd(bob, radius)\n",
    "    lt(bob)\n",
    "    pd(bob)\n",
    "    print petal(bob, radius,45)\n",
    "           \n",
    "\n",
    "    wait_for_user()"
   ]
  },
  {
   "cell_type": "markdown",
   "metadata": {},
   "source": [
    "## Reading Journal feedback\n",
    "\n",
    "Have any comments on this Reading Journal? Feel free to leave them below and we'll read them when you submit your journal entry. This could include suggestions to improve the exercises, topics you'd like to see covered in class next time, or other feedback.\n",
    "\n",
    "If you have Python questions or run into problems while completing the reading, you should post them to Piazza instead so you can get a quick response before your journal is submitted."
   ]
  },
  {
   "cell_type": "markdown",
   "metadata": {},
   "source": [
    " "
   ]
  }
 ],
 "metadata": {
  "kernelspec": {
   "display_name": "Python 2",
   "language": "python",
   "name": "python2"
  },
  "language_info": {
   "codemirror_mode": {
    "name": "ipython",
    "version": 2
   },
   "file_extension": ".py",
   "mimetype": "text/x-python",
   "name": "python",
   "nbconvert_exporter": "python",
   "pygments_lexer": "ipython2",
   "version": "2.7.6"
  }
 },
 "nbformat": 4,
 "nbformat_minor": 0
}
